{
  "nbformat": 4,
  "nbformat_minor": 0,
  "metadata": {
    "colab": {
      "name": "PWM_for_SS.ipynb",
      "provenance": [],
      "include_colab_link": true
    },
    "kernelspec": {
      "name": "python3",
      "display_name": "Python 3"
    },
    "language_info": {
      "name": "python"
    }
  },
  "cells": [
    {
      "cell_type": "markdown",
      "metadata": {
        "id": "view-in-github",
        "colab_type": "text"
      },
      "source": [
        "<a href=\"https://colab.research.google.com/github/alibekk93/PWM-for-Secondary-Structure/blob/main/PWM_for_SS.ipynb\" target=\"_parent\"><img src=\"https://colab.research.google.com/assets/colab-badge.svg\" alt=\"Open In Colab\"/></a>"
      ]
    },
    {
      "cell_type": "markdown",
      "source": [
        "# PWM for SS"
      ],
      "metadata": {
        "id": "GFKW1fIoNXB_"
      }
    },
    {
      "cell_type": "markdown",
      "source": [
        "## Setup"
      ],
      "metadata": {
        "id": "KSCG1VJqNgwu"
      }
    },
    {
      "cell_type": "code",
      "source": [
        "# import libraries\n",
        "import numpy as np\n",
        "import matplotlib.pyplot as plt"
      ],
      "metadata": {
        "id": "A7ozpI3UM7sh"
      },
      "execution_count": 2,
      "outputs": []
    },
    {
      "cell_type": "code",
      "source": [
        "#@markdown Choose how many types of SS you have\n",
        "\n",
        "types_of_SS = '3 types of SS' #@param ['3 types of SS', '8 types of SS']\n",
        "\n",
        "if types_of_SS == '3 types of SS':\n",
        "  SS_TYPES = ['C', 'E', 'H']\n",
        "elif types_of_SS == '8 types of SS':\n",
        "  SS_TYPES = ['B', 'C', 'E', 'G', 'H', 'I', 'S', 'T']\n",
        "\n",
        "CHAR_TO_INDEX = {ss:i for i, ss in enumerate(SS_TYPES)}"
      ],
      "metadata": {
        "id": "inYJgx12vysu",
        "cellView": "form"
      },
      "execution_count": 3,
      "outputs": []
    },
    {
      "cell_type": "code",
      "source": [
        "seqs = ['HHHHHHHHCCCEEE',\n",
        "        'HHHHHHHHCCCEEE',\n",
        "        'CCCCCCCCCCEHH',\n",
        "        'CCCCCCCCCCEHH',\n",
        "        'EEEEEEEHCCCEHH',\n",
        "        'EEEEEEEHCCCEHH',\n",
        "        'EEEEEEEHHHHEHH',\n",
        "        'CCCCCCCHCCCECC']"
      ],
      "metadata": {
        "id": "eXddiBluM7zc"
      },
      "execution_count": 9,
      "outputs": []
    },
    {
      "cell_type": "code",
      "source": [
        "all_seqs = ''.join(seqs)"
      ],
      "metadata": {
        "id": "-FtCKpl9tLqC"
      },
      "execution_count": 10,
      "outputs": []
    },
    {
      "cell_type": "code",
      "source": [
        "background_freqs = [all_seqs.count(ss)/len(all_seqs) for ss in SS_TYPES]"
      ],
      "metadata": {
        "id": "eCjv4Jg5tLmh"
      },
      "execution_count": 11,
      "outputs": []
    },
    {
      "cell_type": "code",
      "source": [
        "counts = np.zeros((len(seqs[0]), len(SS_TYPES)))\n",
        "for seq in seqs:\n",
        "    for i, char in enumerate(seq):\n",
        "        index = CHAR_TO_INDEX[char]\n",
        "        counts[i, index] += 1"
      ],
      "metadata": {
        "id": "VeZkpsdotLM7"
      },
      "execution_count": 12,
      "outputs": []
    },
    {
      "cell_type": "code",
      "source": [
        "pwm = np.zeros_like(counts)\n",
        "for i in range(len(SS_TYPES)):\n",
        "    pwm[:, i] = np.log(counts[:, i]/sum(counts[:, i])/background_freqs[i])"
      ],
      "metadata": {
        "id": "3LY_OrkLv-he",
        "outputId": "cf258952-0781-4792-babf-5a52ce318842",
        "colab": {
          "base_uri": "https://localhost:8080/"
        }
      },
      "execution_count": 13,
      "outputs": [
        {
          "output_type": "stream",
          "name": "stderr",
          "text": [
            "<ipython-input-13-52d1ece97859>:3: RuntimeWarning: divide by zero encountered in log\n",
            "  pwm[:, i] = np.log(counts[:, i]/sum(counts[:, i])/background_freqs[i])\n"
          ]
        }
      ]
    },
    {
      "cell_type": "code",
      "source": [
        "fig, ax = plt.subplots()\n",
        "for i in range(len(SS_TYPES)):\n",
        "    ax.plot(pwm[:, i], label=SS_TYPES[i])\n",
        "ax.set_xlabel('Position')\n",
        "ax.set_ylabel('PWMS')\n",
        "ax.set_xticks(np.arange(len(seqs[0])))\n",
        "ax.set_xticklabels(np.arange(len(seqs[0])))\n",
        "ax.legend()\n",
        "plt.show()"
      ],
      "metadata": {
        "id": "f5BDyYSty5Ny",
        "outputId": "0641ff5c-0cc4-49d3-a225-cd2d874c1738",
        "colab": {
          "base_uri": "https://localhost:8080/",
          "height": 279
        }
      },
      "execution_count": 14,
      "outputs": [
        {
          "output_type": "display_data",
          "data": {
            "text/plain": [
              "<Figure size 432x288 with 1 Axes>"
            ],
            "image/png": "[encoded data removed]"
          },
          "metadata": {
            "needs_background": "light"
          }
        }
      ]
    },
    {
      "cell_type": "code",
      "source": [],
      "metadata": {
        "id": "0S5M8Sy4v-bo"
      },
      "execution_count": 14,
      "outputs": []
    },
    {
      "cell_type": "code",
      "source": [],
      "metadata": {
        "id": "6hqbj8gwv-Zc"
      },
      "execution_count": null,
      "outputs": []
    },
    {
      "cell_type": "code",
      "source": [],
      "metadata": {
        "id": "-SiWU8a6v-XA"
      },
      "execution_count": null,
      "outputs": []
    }
  ]
}