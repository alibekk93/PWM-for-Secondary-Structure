{
  "nbformat": 4,
  "nbformat_minor": 0,
  "metadata": {
    "colab": {
      "name": "PWM_for_SS.ipynb",
      "provenance": [],
      "include_colab_link": true
    },
    "kernelspec": {
      "name": "python3",
      "display_name": "Python 3"
    },
    "language_info": {
      "name": "python"
    }
  },
  "cells": [
    {
      "cell_type": "markdown",
      "metadata": {
        "id": "view-in-github",
        "colab_type": "text"
      },
      "source": [
        "<a href=\"https://colab.research.google.com/github/alibekk93/PWM-for-Secondary-Structure/blob/main/PWM_for_SS.ipynb\" target=\"_parent\"><img src=\"https://colab.research.google.com/assets/colab-badge.svg\" alt=\"Open In Colab\"/></a>"
      ]
    },
    {
      "cell_type": "markdown",
      "source": [
        "# PWM for SS"
      ],
      "metadata": {
        "id": "GFKW1fIoNXB_"
      }
    },
    {
      "cell_type": "markdown",
      "source": [
        "## Setup"
      ],
      "metadata": {
        "id": "KSCG1VJqNgwu"
      }
    },
    {
      "cell_type": "code",
      "source": [
        "import numpy as np\n",
        "import matplotlib.pyplot as plt"
      ],
      "metadata": {
        "id": "A7ozpI3UM7sh"
      },
      "execution_count": 58,
      "outputs": []
    },
    {
      "cell_type": "code",
      "source": [
        "SS_TYPES_3 = ['C', 'E', 'H']\n",
        "SS_TYPES_8 = ['B', 'C', 'E', 'G', 'H', 'I', 'S', 'T']"
      ],
      "metadata": {
        "id": "lDkNiPk4M7vo"
      },
      "execution_count": 27,
      "outputs": []
    },
    {
      "cell_type": "code",
      "source": [
        "SS_TYPES = SS_TYPES_3\n",
        "\n",
        "CHAR_TO_INDEX = {ss:i for i, ss in enumerate(SS_TYPES)}"
      ],
      "metadata": {
        "id": "inYJgx12vysu"
      },
      "execution_count": 34,
      "outputs": []
    },
    {
      "cell_type": "code",
      "source": [
        "seqs = ['HHHCCCEEE', 'CCCCCEHH', 'EEHCCCEHH', 'CCHCCCECC']"
      ],
      "metadata": {
        "id": "eXddiBluM7zc"
      },
      "execution_count": 29,
      "outputs": []
    },
    {
      "cell_type": "code",
      "source": [
        "all_seqs = ''.join(seqs)"
      ],
      "metadata": {
        "id": "-FtCKpl9tLqC"
      },
      "execution_count": 30,
      "outputs": []
    },
    {
      "cell_type": "code",
      "source": [
        "background_freqs = [all_seqs.count(ss)/len(all_seqs) for ss in SS_TYPES]"
      ],
      "metadata": {
        "id": "eCjv4Jg5tLmh"
      },
      "execution_count": 53,
      "outputs": []
    },
    {
      "cell_type": "code",
      "source": [
        "counts = np.zeros((len(seqs[0]), len(SS_TYPES)))\n",
        "for seq in seqs:\n",
        "    for i, char in enumerate(seq):\n",
        "        index = CHAR_TO_INDEX[char]\n",
        "        counts[i, index] += 1"
      ],
      "metadata": {
        "id": "VeZkpsdotLM7"
      },
      "execution_count": 36,
      "outputs": []
    },
    {
      "cell_type": "code",
      "source": [
        "pwm = np.zeros_like(counts)\n",
        "for i in range(len(SS_TYPES)):\n",
        "    pwm[:, i] = np.log(counts[:, i]/sum(counts[:, i])/background_freqs[i])"
      ],
      "metadata": {
        "id": "3LY_OrkLv-he",
        "outputId": "9ebfa42f-d01f-4eff-c9a9-8cabdced900f",
        "colab": {
          "base_uri": "https://localhost:8080/"
        }
      },
      "execution_count": 56,
      "outputs": [
        {
          "output_type": "stream",
          "name": "stderr",
          "text": [
            "<ipython-input-56-52d1ece97859>:3: RuntimeWarning: divide by zero encountered in log\n",
            "  pwm[:, i] = np.log(counts[:, i]/sum(counts[:, i])/background_freqs[i])\n"
          ]
        }
      ]
    },
    {
      "cell_type": "code",
      "source": [
        "fig, ax = plt.subplots()\n",
        "for i in range(len(SS_TYPES)):\n",
        "    ax.plot(pwm[:, i], label=SS_TYPES[i])\n",
        "ax.set_xlabel('Position')\n",
        "ax.set_ylabel('PWMS')\n",
        "ax.set_xticks(np.arange(len(seqs[0])))\n",
        "ax.set_xticklabels(np.arange(len(seqs[0])))\n",
        "ax.legend()\n",
        "plt.show()"
      ],
      "metadata": {
        "id": "f5BDyYSty5Ny",
        "outputId": "3d7f4a0e-4d26-4b56-e491-5a74ba5f2fd8",
        "colab": {
          "base_uri": "https://localhost:8080/",
          "height": 279
        }
      },
      "execution_count": 63,
      "outputs": [
        {
          "output_type": "display_data",
          "data": {
            "text/plain": [
              "<Figure size 432x288 with 1 Axes>"
            ],
            "image/png": "[encoded data removed]"
          },
          "metadata": {
            "needs_background": "light"
          }
        }
      ]
    },
    {
      "cell_type": "code",
      "source": [],
      "metadata": {
        "id": "0S5M8Sy4v-bo"
      },
      "execution_count": null,
      "outputs": []
    },
    {
      "cell_type": "code",
      "source": [],
      "metadata": {
        "id": "6hqbj8gwv-Zc"
      },
      "execution_count": null,
      "outputs": []
    },
    {
      "cell_type": "code",
      "source": [],
      "metadata": {
        "id": "-SiWU8a6v-XA"
      },
      "execution_count": null,
      "outputs": []
    }
  ]
}