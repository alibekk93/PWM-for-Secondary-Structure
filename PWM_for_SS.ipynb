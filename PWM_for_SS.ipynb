{
  "nbformat": 4,
  "nbformat_minor": 0,
  "metadata": {
    "colab": {
      "name": "PWM_for_SS.ipynb",
      "provenance": [],
      "include_colab_link": true
    },
    "kernelspec": {
      "name": "python3",
      "display_name": "Python 3"
    },
    "language_info": {
      "name": "python"
    }
  },
  "cells": [
    {
      "cell_type": "markdown",
      "metadata": {
        "id": "view-in-github",
        "colab_type": "text"
      },
      "source": [
        "<a href=\"https://colab.research.google.com/github/alibekk93/PWM-for-Secondary-Structure/blob/main/PWM_for_SS.ipynb\" target=\"_parent\"><img src=\"https://colab.research.google.com/assets/colab-badge.svg\" alt=\"Open In Colab\"/></a>"
      ]
    },
    {
      "cell_type": "markdown",
      "source": [
        "# PWM for SS"
      ],
      "metadata": {
        "id": "GFKW1fIoNXB_"
      }
    },
    {
      "cell_type": "markdown",
      "source": [
        "## Setup"
      ],
      "metadata": {
        "id": "KSCG1VJqNgwu"
      }
    },
    {
      "cell_type": "code",
      "source": [
        "!pip install BIO"
      ],
      "metadata": {
        "colab": {
          "base_uri": "https://localhost:8080/"
        },
        "id": "Y_vOgaiy6FzB",
        "outputId": "79345d88-fa7c-427c-9360-130ea64385b5"
      },
      "execution_count": 1,
      "outputs": [
        {
          "output_type": "stream",
          "name": "stdout",
          "text": [
            "Looking in indexes: https://pypi.org/simple, https://us-python.pkg.dev/colab-wheels/public/simple/\n",
            "Requirement already satisfied: BIO in /usr/local/lib/python3.8/dist-packages (1.5.3)\n",
            "Requirement already satisfied: biopython>=1.80 in /usr/local/lib/python3.8/dist-packages (from BIO) (1.80)\n",
            "Requirement already satisfied: mygene in /usr/local/lib/python3.8/dist-packages (from BIO) (3.2.2)\n",
            "Requirement already satisfied: requests in /usr/local/lib/python3.8/dist-packages (from BIO) (2.25.1)\n",
            "Requirement already satisfied: tqdm in /usr/local/lib/python3.8/dist-packages (from BIO) (4.64.1)\n",
            "Requirement already satisfied: numpy in /usr/local/lib/python3.8/dist-packages (from biopython>=1.80->BIO) (1.21.6)\n",
            "Requirement already satisfied: biothings-client>=0.2.6 in /usr/local/lib/python3.8/dist-packages (from mygene->BIO) (0.2.6)\n",
            "Requirement already satisfied: idna<3,>=2.5 in /usr/local/lib/python3.8/dist-packages (from requests->BIO) (2.10)\n",
            "Requirement already satisfied: chardet<5,>=3.0.2 in /usr/local/lib/python3.8/dist-packages (from requests->BIO) (4.0.0)\n",
            "Requirement already satisfied: certifi>=2017.4.17 in /usr/local/lib/python3.8/dist-packages (from requests->BIO) (2022.12.7)\n",
            "Requirement already satisfied: urllib3<1.27,>=1.21.1 in /usr/local/lib/python3.8/dist-packages (from requests->BIO) (1.24.3)\n"
          ]
        }
      ]
    },
    {
      "cell_type": "code",
      "source": [
        "# import libraries\n",
        "import numpy as np\n",
        "import matplotlib.pyplot as plt\n",
        "from tqdm import tqdm\n",
        "from Bio import SeqIO"
      ],
      "metadata": {
        "id": "A7ozpI3UM7sh"
      },
      "execution_count": 2,
      "outputs": []
    },
    {
      "cell_type": "code",
      "source": [
        "#@markdown Choose how many types of SS you have\n",
        "\n",
        "types_of_SS = 'Nucleotides' #@param ['3 types of SS', '8 types of SS', 'Nucleotides']\n",
        "\n",
        "if types_of_SS == '3 types of SS':\n",
        "  SS_TYPES = ['C', 'E', 'H']\n",
        "elif types_of_SS == '8 types of SS':\n",
        "  SS_TYPES = ['B', 'C', 'E', 'G', 'H', 'I', 'S', 'T']\n",
        "elif types_of_SS == 'Nucleotides':\n",
        "  SS_TYPES = ['A', 'C', 'G', 'T']\n",
        "\n",
        "CHAR_TO_INDEX = {ss:i for i, ss in enumerate(SS_TYPES)}\n",
        "INDEX_TO_CHAR = {i:ss for i, ss in enumerate(SS_TYPES)}\n",
        "\n",
        "#@markdown Choose a pseudocount value\n",
        "pseudocount = '1e-100' #@param {type:'string'}\n",
        "pseudocount = float(pseudocount)\n",
        "\n",
        "#@markdown Set motif length\n",
        "\n",
        "motif_length = 7 #@param {type:'integer'}\n",
        "\n",
        "#@markdown Set number of iterations\n",
        "n_iter = 1000 #@param {type:'integer'}"
      ],
      "metadata": {
        "id": "inYJgx12vysu"
      },
      "execution_count": 20,
      "outputs": []
    },
    {
      "cell_type": "code",
      "source": [
        "seqs_file = SeqIO.parse('/content/EscherichiaColiK12SubstrDH10B_CDS.FAS', 'fasta')\n",
        "seqs = [str(seq.seq) for seq in seqs_file][50:100]"
      ],
      "metadata": {
        "id": "D8T5FS3A6btC"
      },
      "execution_count": 28,
      "outputs": []
    },
    {
      "cell_type": "code",
      "source": [
        "# background frequencies and counts\n",
        "seqs_concat = ''.join(seqs)\n",
        "background_counts = [seqs_concat.count(ss) for ss in SS_TYPES]\n",
        "background_freqs = [count / len(seqs_concat) for count in background_counts]\n",
        "# print({ss:f for ss, f in zip(SS_TYPES, background_freqs)})\n",
        "\n",
        "# get initial random n-mers\n",
        "random_nmers = []\n",
        "for seq in seqs:\n",
        "  effective_len = len(seq) + 1 - motif_length\n",
        "  nmer_start = np.random.choice(range(effective_len))\n",
        "  random_nmer = seq[nmer_start:nmer_start + motif_length]\n",
        "  random_nmers.append(random_nmer)\n",
        "# print(random_nmers)"
      ],
      "metadata": {
        "id": "ACX5otTpZlOP"
      },
      "execution_count": 30,
      "outputs": []
    },
    {
      "cell_type": "code",
      "source": [
        "def optimize_nmer(seq_i, seqs=seqs, random_nmers=random_nmers, motif_length=motif_length,\n",
        "                  background_counts=background_counts, pseudocount=pseudocount):\n",
        "  # removing optimized nmer\n",
        "  seq = seqs[seq_i]\n",
        "  effective_len = len(seq) + 1 - motif_length\n",
        "  optimized_nmer = random_nmers[seq_i]\n",
        "  nmers_for_counts = random_nmers.copy()\n",
        "  nmers_for_counts.remove(nmers_for_counts[seq_i])\n",
        "  # counting SS in nmers other than optimized\n",
        "  counts = np.zeros((motif_length, len(SS_TYPES)))\n",
        "  for nmer in nmers_for_counts:\n",
        "    for i, char in enumerate(nmer):\n",
        "      index = CHAR_TO_INDEX[char]\n",
        "      counts[i, index] += 1\n",
        "  # adding optimized nmer to background counts\n",
        "  background_counts_with_nmer = [optimized_nmer.count(ss) + background + pseudocount*4 for ss, background in zip(SS_TYPES, background_counts)]\n",
        "  # getting background freqs\n",
        "  background_freqs_with_nmer = [(bc) / (sum(background_counts_with_nmer)) for bc in background_counts_with_nmer]\n",
        "  # calculating pwm\n",
        "  pwm = np.zeros_like(counts)\n",
        "  for i in range(len(SS_TYPES)):\n",
        "    pwm[:, i] = np.log((counts[:, i]/sum(counts[:, i]) + pseudocount)/(background_freqs_with_nmer[i]))\n",
        "  # calculate pwms for each nmer in sequence\n",
        "  pwms_all = []\n",
        "  for nmer_i in range(effective_len):\n",
        "    nmer = seq[nmer_i:nmer_i + motif_length]\n",
        "    pwms_all.append(np.sum([pwm[i, CHAR_TO_INDEX[ss]] for i, ss in enumerate(nmer)]))\n",
        "    optimal_nmer_i = np.where(pwms_all==max(pwms_all))[0][0]\n",
        "    random_nmers[seq_i] = seqs[seq_i][optimal_nmer_i:optimal_nmer_i + motif_length]\n",
        "  return random_nmers, optimal_nmer_i, pwm"
      ],
      "metadata": {
        "id": "CSFqffjOYUPB"
      },
      "execution_count": 31,
      "outputs": []
    },
    {
      "cell_type": "code",
      "source": [
        "# get optimal nmer for each sequence\n",
        "n_nochange = 0\n",
        "optimal_nmer_idx = []\n",
        "max_F = 0\n",
        "F_values = []\n",
        "for iter in tqdm(range(n_iter)):\n",
        "  for seq_i in range(len(seqs)):\n",
        "    random_nmers, optimal_nmer_i, pwm = optimize_nmer(seq_i)\n",
        "    optimal_nmer_idx.append(optimal_nmer_i)\n",
        "  # calculate F\n",
        "  counts = np.zeros((motif_length, len(SS_TYPES)))\n",
        "  for nmer in random_nmers:\n",
        "    for i, char in enumerate(nmer):\n",
        "      index = CHAR_TO_INDEX[char]\n",
        "      counts[i, index] += 1\n",
        "  new_F = sum(sum(counts * pwm))\n",
        "  F_values.append(new_F)\n",
        "  if new_F > max_F:\n",
        "    max_F = new_F\n",
        "  else:\n",
        "    n_nochange += 1\n",
        "  if n_nochange > 10:\n",
        "    print('Completed after {n} iterations'.format(n=iter))\n",
        "    break"
      ],
      "metadata": {
        "colab": {
          "base_uri": "https://localhost:8080/"
        },
        "id": "qdTUhs9xy9Uq",
        "outputId": "3442782f-60c2-4466-d4c8-42a31c1c0578"
      },
      "execution_count": 32,
      "outputs": [
        {
          "output_type": "stream",
          "name": "stderr",
          "text": [
            "  1%|▏         | 14/1000 [00:56<1:06:22,  4.04s/it]"
          ]
        },
        {
          "output_type": "stream",
          "name": "stdout",
          "text": [
            "Completed after 14 iterations\n"
          ]
        },
        {
          "output_type": "stream",
          "name": "stderr",
          "text": [
            "\n"
          ]
        }
      ]
    },
    {
      "cell_type": "code",
      "source": [
        "random_nmers[:10]"
      ],
      "metadata": {
        "id": "UosdkY4sIAYy",
        "colab": {
          "base_uri": "https://localhost:8080/"
        },
        "outputId": "94190a0f-9be2-479a-e793-939c4dbaf2db"
      },
      "execution_count": 33,
      "outputs": [
        {
          "output_type": "execute_result",
          "data": {
            "text/plain": [
              "['ATTGCCG',\n",
              " 'ATTGCCG',\n",
              " 'ATTGCTG',\n",
              " 'ATTGCCG',\n",
              " 'ATTGCAG',\n",
              " 'ATTACCG',\n",
              " 'ATTATCG',\n",
              " 'AATGCCG',\n",
              " 'AATGCAG',\n",
              " 'ATTACTG']"
            ]
          },
          "metadata": {},
          "execution_count": 33
        }
      ]
    },
    {
      "cell_type": "code",
      "source": [
        "plt.plot(F_values)"
      ],
      "metadata": {
        "id": "vC7pAmZVIAQr",
        "colab": {
          "base_uri": "https://localhost:8080/",
          "height": 282
        },
        "outputId": "cfd9c4fe-bb07-43fe-a102-74b405803303"
      },
      "execution_count": 34,
      "outputs": [
        {
          "output_type": "execute_result",
          "data": {
            "text/plain": [
              "[<matplotlib.lines.Line2D at 0x7f0ef033c5b0>]"
            ]
          },
          "metadata": {},
          "execution_count": 34
        },
        {
          "output_type": "display_data",
          "data": {
            "text/plain": [
              "<Figure size 432x288 with 1 Axes>"
            ],
            "image/png": "[encoded data removed]"
          },
          "metadata": {
            "needs_background": "light"
          }
        }
      ]
    },
    {
      "cell_type": "code",
      "source": [
        "plt.plot(pwm)"
      ],
      "metadata": {
        "id": "t6rN6yjzEojy",
        "colab": {
          "base_uri": "https://localhost:8080/",
          "height": 334
        },
        "outputId": "3d79b3a9-210c-4df4-b372-f1ee29add74e"
      },
      "execution_count": 35,
      "outputs": [
        {
          "output_type": "execute_result",
          "data": {
            "text/plain": [
              "[<matplotlib.lines.Line2D at 0x7f0eee950be0>,\n",
              " <matplotlib.lines.Line2D at 0x7f0eee950d30>,\n",
              " <matplotlib.lines.Line2D at 0x7f0eee950df0>,\n",
              " <matplotlib.lines.Line2D at 0x7f0eee950eb0>]"
            ]
          },
          "metadata": {},
          "execution_count": 35
        },
        {
          "output_type": "display_data",
          "data": {
            "text/plain": [
              "<Figure size 432x288 with 1 Axes>"
            ],
            "image/png": "[encoded data removed]"
          },
          "metadata": {
            "needs_background": "light"
          }
        }
      ]
    },
    {
      "cell_type": "code",
      "source": [
        "F_values"
      ],
      "metadata": {
        "id": "kIko8RdP-wRl",
        "colab": {
          "base_uri": "https://localhost:8080/"
        },
        "outputId": "d2397ddd-174d-430c-ee86-592f62161a34"
      },
      "execution_count": 36,
      "outputs": [
        {
          "output_type": "execute_result",
          "data": {
            "text/plain": [
              "[126.77405512239642,\n",
              " 156.02664556762412,\n",
              " 156.36764977557323,\n",
              " 156.87434563725674,\n",
              " 156.87434563725674,\n",
              " 156.87434563725674,\n",
              " 156.87434563725674,\n",
              " 156.87434563725674,\n",
              " 156.87434563725674,\n",
              " 156.87434563725674,\n",
              " 156.87434563725674,\n",
              " 156.87434563725674,\n",
              " 156.87434563725674,\n",
              " 156.87434563725674,\n",
              " 156.87434563725674]"
            ]
          },
          "metadata": {},
          "execution_count": 36
        }
      ]
    },
    {
      "cell_type": "code",
      "source": [
        "pwm"
      ],
      "metadata": {
        "colab": {
          "base_uri": "https://localhost:8080/"
        },
        "id": "-q2mBFcT_tJS",
        "outputId": "3c9c9f3d-8864-443a-fcfe-c4673aa2fb67"
      },
      "execution_count": 37,
      "outputs": [
        {
          "output_type": "execute_result",
          "data": {
            "text/plain": [
              "array([[ 9.59504346e-01, -2.28882636e+02, -2.28990261e+02,\n",
              "        -2.28782067e+02],\n",
              "       [-3.67366595e-01, -2.28882636e+02, -2.28990261e+02,\n",
              "         3.87132542e-01],\n",
              "       [-2.28821377e+02, -2.28882636e+02, -2.28990261e+02,\n",
              "         6.95433902e-01],\n",
              "       [-2.24265751e-01, -1.18907590e+00,  2.31005194e-01,\n",
              "        -2.28782067e+02],\n",
              "       [-2.28821377e+02,  8.69312229e-01, -2.28990261e+02,\n",
              "        -2.50323922e+00],\n",
              "       [-2.23916877e+00,  2.38040452e-01, -2.40805214e+00,\n",
              "        -2.00654123e-01],\n",
              "       [-2.28821377e+02, -2.28882636e+02,  7.90620982e-01,\n",
              "        -2.28782067e+02]])"
            ]
          },
          "metadata": {},
          "execution_count": 37
        }
      ]
    },
    {
      "cell_type": "code",
      "source": [],
      "metadata": {
        "id": "K_IeSFRt_y19"
      },
      "execution_count": null,
      "outputs": []
    }
  ]
}