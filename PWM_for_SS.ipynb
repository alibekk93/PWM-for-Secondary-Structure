{
  "nbformat": 4,
  "nbformat_minor": 0,
  "metadata": {
    "colab": {
      "name": "PWM_for_SS.ipynb",
      "provenance": [],
      "include_colab_link": true
    },
    "kernelspec": {
      "name": "python3",
      "display_name": "Python 3"
    },
    "language_info": {
      "name": "python"
    }
  },
  "cells": [
    {
      "cell_type": "markdown",
      "metadata": {
        "id": "view-in-github",
        "colab_type": "text"
      },
      "source": [
        "<a href=\"https://colab.research.google.com/github/alibekk93/PWM-for-Secondary-Structure/blob/main/PWM_for_SS.ipynb\" target=\"_parent\"><img src=\"https://colab.research.google.com/assets/colab-badge.svg\" alt=\"Open In Colab\"/></a>"
      ]
    },
    {
      "cell_type": "markdown",
      "source": [
        "# PWM for SS"
      ],
      "metadata": {
        "id": "GFKW1fIoNXB_"
      }
    },
    {
      "cell_type": "markdown",
      "source": [
        "## Setup"
      ],
      "metadata": {
        "id": "KSCG1VJqNgwu"
      }
    },
    {
      "cell_type": "code",
      "source": [
        "# import numpy as np"
      ],
      "metadata": {
        "id": "A7ozpI3UM7sh"
      },
      "execution_count": 19,
      "outputs": []
    },
    {
      "cell_type": "code",
      "source": [
        "SS_TYPES_3 = ['C', 'E', 'H']\n",
        "SS_TYPES_8 = ['B', 'C', 'E', 'G', 'H', 'I', 'S', 'T']"
      ],
      "metadata": {
        "id": "lDkNiPk4M7vo"
      },
      "execution_count": 20,
      "outputs": []
    },
    {
      "cell_type": "code",
      "source": [
        "SS_TYPES = SS_TYPES_3"
      ],
      "metadata": {
        "id": "inYJgx12vysu"
      },
      "execution_count": 21,
      "outputs": []
    },
    {
      "cell_type": "code",
      "source": [
        "seqs = ['HHHCCCEEE', 'HHHHHH', 'HHEEEEEE', 'CCCCEEECCHH']"
      ],
      "metadata": {
        "id": "eXddiBluM7zc"
      },
      "execution_count": 22,
      "outputs": []
    },
    {
      "cell_type": "code",
      "source": [
        "all_seqs = ''.join(seqs)"
      ],
      "metadata": {
        "id": "-FtCKpl9tLqC"
      },
      "execution_count": 23,
      "outputs": []
    },
    {
      "cell_type": "code",
      "source": [
        "background_freqs = {ss:all_seqs.count(ss)/len(all_seqs) for ss in SS_TYPES}"
      ],
      "metadata": {
        "id": "eCjv4Jg5tLmh"
      },
      "execution_count": 24,
      "outputs": []
    },
    {
      "cell_type": "code",
      "source": [
        "background_freqs"
      ],
      "metadata": {
        "id": "X4u2_QivtLgN",
        "outputId": "9f780ba5-819d-49a0-b87e-b0991102f2da",
        "colab": {
          "base_uri": "https://localhost:8080/"
        }
      },
      "execution_count": 25,
      "outputs": [
        {
          "output_type": "execute_result",
          "data": {
            "text/plain": [
              "{'C': 0.2647058823529412, 'E': 0.35294117647058826, 'H': 0.38235294117647056}"
            ]
          },
          "metadata": {},
          "execution_count": 25
        }
      ]
    },
    {
      "cell_type": "code",
      "source": [],
      "metadata": {
        "id": "VeZkpsdotLM7"
      },
      "execution_count": null,
      "outputs": []
    },
    {
      "cell_type": "code",
      "source": [],
      "metadata": {
        "id": "3LY_OrkLv-he"
      },
      "execution_count": null,
      "outputs": []
    },
    {
      "cell_type": "code",
      "source": [],
      "metadata": {
        "id": "5jOi_z0Qv-eM"
      },
      "execution_count": null,
      "outputs": []
    },
    {
      "cell_type": "code",
      "source": [],
      "metadata": {
        "id": "0S5M8Sy4v-bo"
      },
      "execution_count": null,
      "outputs": []
    },
    {
      "cell_type": "code",
      "source": [],
      "metadata": {
        "id": "6hqbj8gwv-Zc"
      },
      "execution_count": null,
      "outputs": []
    },
    {
      "cell_type": "code",
      "source": [],
      "metadata": {
        "id": "-SiWU8a6v-XA"
      },
      "execution_count": null,
      "outputs": []
    }
  ]
}
